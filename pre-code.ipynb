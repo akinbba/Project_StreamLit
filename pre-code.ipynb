{
 "metadata": {
  "language_info": {
   "codemirror_mode": {
    "name": "ipython",
    "version": 3
   },
   "file_extension": ".py",
   "mimetype": "text/x-python",
   "name": "python",
   "nbconvert_exporter": "python",
   "pygments_lexer": "ipython3",
   "version": "3.8.0"
  },
  "orig_nbformat": 2,
  "kernelspec": {
   "name": "python380jvsc74a57bd0d44983228ee0ab37c7594d6b8740458074ae15c511a2c294676b5d928cd8ee2b",
   "display_name": "Python 3.8.0 32-bit"
  },
  "metadata": {
   "interpreter": {
    "hash": "d44983228ee0ab37c7594d6b8740458074ae15c511a2c294676b5d928cd8ee2b"
   }
  }
 },
 "nbformat": 4,
 "nbformat_minor": 2,
 "cells": [
  {
   "cell_type": "code",
   "execution_count": null,
   "metadata": {},
   "outputs": [],
   "source": [
    "pip install pandas"
   ]
  },
  {
   "cell_type": "code",
   "execution_count": 15,
   "metadata": {},
   "outputs": [],
   "source": [
    "import os\n",
    "import pandas as pd\n",
    "import numpy as np\n"
   ]
  },
  {
   "source": [
    "Data Preprocessing"
   ],
   "cell_type": "markdown",
   "metadata": {}
  },
  {
   "source": [
    "pop = pd.read_csv('C:/users/bakin/desktop/population_total.csv')\n",
    "ley = pd.read_csv('C:/Users/bakin/Desktop/life_expectancy_years.csv')\n",
    "gni = pd.read_csv('C:/Users/bakin/Desktop/gnipercapita_ppp_current_international.csv')"
   ],
   "cell_type": "code",
   "metadata": {},
   "execution_count": 40,
   "outputs": []
  },
  {
   "cell_type": "code",
   "execution_count": 22,
   "metadata": {},
   "outputs": [
    {
     "output_type": "execute_result",
     "data": {
      "text/plain": [
       "       country     1800     1801     1802     1803     1804     1805     1806  \\\n",
       "0  Afghanistan  3280000  3280000  3280000  3280000  3280000  3280000  3280000   \n",
       "1      Albania   400000   402000   404000   405000   407000   409000   411000   \n",
       "2      Algeria  2500000  2510000  2520000  2530000  2540000  2550000  2560000   \n",
       "3      Andorra     2650     2650     2650     2650     2650     2650     2650   \n",
       "4       Angola  1570000  1570000  1570000  1570000  1570000  1570000  1570000   \n",
       "\n",
       "      1807     1808  ...       2091       2092       2093       2094  \\\n",
       "0  3280000  3280000  ...   76600000   76400000   76300000   76100000   \n",
       "1   413000   414000  ...    1330000    1300000    1270000    1250000   \n",
       "2  2560000  2570000  ...   70400000   70500000   70500000   70600000   \n",
       "3     2650     2650  ...      63000      62900      62900      62800   \n",
       "4  1570000  1570000  ...  168000000  170000000  172000000  175000000   \n",
       "\n",
       "        2095       2096       2097       2098       2099       2100  \n",
       "0   76000000   75800000   75600000   75400000   75200000   74900000  \n",
       "1    1220000    1190000    1170000    1140000    1110000    1090000  \n",
       "2   70700000   70700000   70700000   70700000   70700000   70700000  \n",
       "3      62700      62700      62600      62500      62500      62400  \n",
       "4  177000000  179000000  182000000  184000000  186000000  188000000  \n",
       "\n",
       "[5 rows x 302 columns]"
      ],
      "text/html": "<div>\n<style scoped>\n    .dataframe tbody tr th:only-of-type {\n        vertical-align: middle;\n    }\n\n    .dataframe tbody tr th {\n        vertical-align: top;\n    }\n\n    .dataframe thead th {\n        text-align: right;\n    }\n</style>\n<table border=\"1\" class=\"dataframe\">\n  <thead>\n    <tr style=\"text-align: right;\">\n      <th></th>\n      <th>country</th>\n      <th>1800</th>\n      <th>1801</th>\n      <th>1802</th>\n      <th>1803</th>\n      <th>1804</th>\n      <th>1805</th>\n      <th>1806</th>\n      <th>1807</th>\n      <th>1808</th>\n      <th>...</th>\n      <th>2091</th>\n      <th>2092</th>\n      <th>2093</th>\n      <th>2094</th>\n      <th>2095</th>\n      <th>2096</th>\n      <th>2097</th>\n      <th>2098</th>\n      <th>2099</th>\n      <th>2100</th>\n    </tr>\n  </thead>\n  <tbody>\n    <tr>\n      <th>0</th>\n      <td>Afghanistan</td>\n      <td>3280000</td>\n      <td>3280000</td>\n      <td>3280000</td>\n      <td>3280000</td>\n      <td>3280000</td>\n      <td>3280000</td>\n      <td>3280000</td>\n      <td>3280000</td>\n      <td>3280000</td>\n      <td>...</td>\n      <td>76600000</td>\n      <td>76400000</td>\n      <td>76300000</td>\n      <td>76100000</td>\n      <td>76000000</td>\n      <td>75800000</td>\n      <td>75600000</td>\n      <td>75400000</td>\n      <td>75200000</td>\n      <td>74900000</td>\n    </tr>\n    <tr>\n      <th>1</th>\n      <td>Albania</td>\n      <td>400000</td>\n      <td>402000</td>\n      <td>404000</td>\n      <td>405000</td>\n      <td>407000</td>\n      <td>409000</td>\n      <td>411000</td>\n      <td>413000</td>\n      <td>414000</td>\n      <td>...</td>\n      <td>1330000</td>\n      <td>1300000</td>\n      <td>1270000</td>\n      <td>1250000</td>\n      <td>1220000</td>\n      <td>1190000</td>\n      <td>1170000</td>\n      <td>1140000</td>\n      <td>1110000</td>\n      <td>1090000</td>\n    </tr>\n    <tr>\n      <th>2</th>\n      <td>Algeria</td>\n      <td>2500000</td>\n      <td>2510000</td>\n      <td>2520000</td>\n      <td>2530000</td>\n      <td>2540000</td>\n      <td>2550000</td>\n      <td>2560000</td>\n      <td>2560000</td>\n      <td>2570000</td>\n      <td>...</td>\n      <td>70400000</td>\n      <td>70500000</td>\n      <td>70500000</td>\n      <td>70600000</td>\n      <td>70700000</td>\n      <td>70700000</td>\n      <td>70700000</td>\n      <td>70700000</td>\n      <td>70700000</td>\n      <td>70700000</td>\n    </tr>\n    <tr>\n      <th>3</th>\n      <td>Andorra</td>\n      <td>2650</td>\n      <td>2650</td>\n      <td>2650</td>\n      <td>2650</td>\n      <td>2650</td>\n      <td>2650</td>\n      <td>2650</td>\n      <td>2650</td>\n      <td>2650</td>\n      <td>...</td>\n      <td>63000</td>\n      <td>62900</td>\n      <td>62900</td>\n      <td>62800</td>\n      <td>62700</td>\n      <td>62700</td>\n      <td>62600</td>\n      <td>62500</td>\n      <td>62500</td>\n      <td>62400</td>\n    </tr>\n    <tr>\n      <th>4</th>\n      <td>Angola</td>\n      <td>1570000</td>\n      <td>1570000</td>\n      <td>1570000</td>\n      <td>1570000</td>\n      <td>1570000</td>\n      <td>1570000</td>\n      <td>1570000</td>\n      <td>1570000</td>\n      <td>1570000</td>\n      <td>...</td>\n      <td>168000000</td>\n      <td>170000000</td>\n      <td>172000000</td>\n      <td>175000000</td>\n      <td>177000000</td>\n      <td>179000000</td>\n      <td>182000000</td>\n      <td>184000000</td>\n      <td>186000000</td>\n      <td>188000000</td>\n    </tr>\n  </tbody>\n</table>\n<p>5 rows × 302 columns</p>\n</div>"
     },
     "metadata": {},
     "execution_count": 22
    }
   ],
   "source": [
    "pop.head()"
   ]
  },
  {
   "cell_type": "code",
   "execution_count": 23,
   "metadata": {},
   "outputs": [
    {
     "output_type": "execute_result",
     "data": {
      "text/plain": [
       "       country  1800  1801  1802  1803  1804  1805  1806  1807  1808  ...  \\\n",
       "0  Afghanistan  28.2  28.2  28.2  28.2  28.2  28.2  28.1  28.1  28.1  ...   \n",
       "1      Albania  35.4  35.4  35.4  35.4  35.4  35.4  35.4  35.4  35.4  ...   \n",
       "2      Algeria  28.8  28.8  28.8  28.8  28.8  28.8  28.8  28.8  28.8  ...   \n",
       "3      Andorra   NaN   NaN   NaN   NaN   NaN   NaN   NaN   NaN   NaN  ...   \n",
       "4       Angola  27.0  27.0  27.0  27.0  27.0  27.0  27.0  27.0  27.0  ...   \n",
       "\n",
       "   2091  2092  2093  2094  2095  2096  2097  2098  2099  2100  \n",
       "0  76.5  76.6  76.7  76.9  77.0  77.1  77.3  77.4  77.5  77.7  \n",
       "1  87.4  87.5  87.6  87.7  87.8  87.9  88.0  88.1  88.2  88.3  \n",
       "2  88.3  88.4  88.5  88.6  88.7  88.8  88.9  89.0  89.1  89.2  \n",
       "3   NaN   NaN   NaN   NaN   NaN   NaN   NaN   NaN   NaN   NaN  \n",
       "4  78.7  78.9  79.0  79.1  79.3  79.4  79.5  79.7  79.8  79.9  \n",
       "\n",
       "[5 rows x 302 columns]"
      ],
      "text/html": "<div>\n<style scoped>\n    .dataframe tbody tr th:only-of-type {\n        vertical-align: middle;\n    }\n\n    .dataframe tbody tr th {\n        vertical-align: top;\n    }\n\n    .dataframe thead th {\n        text-align: right;\n    }\n</style>\n<table border=\"1\" class=\"dataframe\">\n  <thead>\n    <tr style=\"text-align: right;\">\n      <th></th>\n      <th>country</th>\n      <th>1800</th>\n      <th>1801</th>\n      <th>1802</th>\n      <th>1803</th>\n      <th>1804</th>\n      <th>1805</th>\n      <th>1806</th>\n      <th>1807</th>\n      <th>1808</th>\n      <th>...</th>\n      <th>2091</th>\n      <th>2092</th>\n      <th>2093</th>\n      <th>2094</th>\n      <th>2095</th>\n      <th>2096</th>\n      <th>2097</th>\n      <th>2098</th>\n      <th>2099</th>\n      <th>2100</th>\n    </tr>\n  </thead>\n  <tbody>\n    <tr>\n      <th>0</th>\n      <td>Afghanistan</td>\n      <td>28.2</td>\n      <td>28.2</td>\n      <td>28.2</td>\n      <td>28.2</td>\n      <td>28.2</td>\n      <td>28.2</td>\n      <td>28.1</td>\n      <td>28.1</td>\n      <td>28.1</td>\n      <td>...</td>\n      <td>76.5</td>\n      <td>76.6</td>\n      <td>76.7</td>\n      <td>76.9</td>\n      <td>77.0</td>\n      <td>77.1</td>\n      <td>77.3</td>\n      <td>77.4</td>\n      <td>77.5</td>\n      <td>77.7</td>\n    </tr>\n    <tr>\n      <th>1</th>\n      <td>Albania</td>\n      <td>35.4</td>\n      <td>35.4</td>\n      <td>35.4</td>\n      <td>35.4</td>\n      <td>35.4</td>\n      <td>35.4</td>\n      <td>35.4</td>\n      <td>35.4</td>\n      <td>35.4</td>\n      <td>...</td>\n      <td>87.4</td>\n      <td>87.5</td>\n      <td>87.6</td>\n      <td>87.7</td>\n      <td>87.8</td>\n      <td>87.9</td>\n      <td>88.0</td>\n      <td>88.1</td>\n      <td>88.2</td>\n      <td>88.3</td>\n    </tr>\n    <tr>\n      <th>2</th>\n      <td>Algeria</td>\n      <td>28.8</td>\n      <td>28.8</td>\n      <td>28.8</td>\n      <td>28.8</td>\n      <td>28.8</td>\n      <td>28.8</td>\n      <td>28.8</td>\n      <td>28.8</td>\n      <td>28.8</td>\n      <td>...</td>\n      <td>88.3</td>\n      <td>88.4</td>\n      <td>88.5</td>\n      <td>88.6</td>\n      <td>88.7</td>\n      <td>88.8</td>\n      <td>88.9</td>\n      <td>89.0</td>\n      <td>89.1</td>\n      <td>89.2</td>\n    </tr>\n    <tr>\n      <th>3</th>\n      <td>Andorra</td>\n      <td>NaN</td>\n      <td>NaN</td>\n      <td>NaN</td>\n      <td>NaN</td>\n      <td>NaN</td>\n      <td>NaN</td>\n      <td>NaN</td>\n      <td>NaN</td>\n      <td>NaN</td>\n      <td>...</td>\n      <td>NaN</td>\n      <td>NaN</td>\n      <td>NaN</td>\n      <td>NaN</td>\n      <td>NaN</td>\n      <td>NaN</td>\n      <td>NaN</td>\n      <td>NaN</td>\n      <td>NaN</td>\n      <td>NaN</td>\n    </tr>\n    <tr>\n      <th>4</th>\n      <td>Angola</td>\n      <td>27.0</td>\n      <td>27.0</td>\n      <td>27.0</td>\n      <td>27.0</td>\n      <td>27.0</td>\n      <td>27.0</td>\n      <td>27.0</td>\n      <td>27.0</td>\n      <td>27.0</td>\n      <td>...</td>\n      <td>78.7</td>\n      <td>78.9</td>\n      <td>79.0</td>\n      <td>79.1</td>\n      <td>79.3</td>\n      <td>79.4</td>\n      <td>79.5</td>\n      <td>79.7</td>\n      <td>79.8</td>\n      <td>79.9</td>\n    </tr>\n  </tbody>\n</table>\n<p>5 rows × 302 columns</p>\n</div>"
     },
     "metadata": {},
     "execution_count": 23
    }
   ],
   "source": [
    "ley.head(5)"
   ]
  },
  {
   "cell_type": "code",
   "execution_count": 24,
   "metadata": {},
   "outputs": [
    {
     "output_type": "execute_result",
     "data": {
      "text/plain": [
       "               country     1990     1991     1992     1993     1994     1995  \\\n",
       "0          Afghanistan      NaN      NaN      NaN      NaN      NaN      NaN   \n",
       "1              Albania   2550.0   1880.0   1740.0   2110.0   2300.0   2710.0   \n",
       "2              Algeria   6660.0   6510.0   6690.0   6630.0   6530.0   6710.0   \n",
       "3               Angola   2980.0   3300.0   1620.0   1490.0   1260.0   2340.0   \n",
       "4  Antigua and Barbuda  10500.0  11300.0  11600.0  12400.0  13200.0  12600.0   \n",
       "\n",
       "      1996     1997     1998  ...     2010     2011     2012     2013  \\\n",
       "0      NaN      NaN      NaN  ...   1710.0   1700.0   1920.0   2020.0   \n",
       "1   3050.0   2780.0   3110.0  ...   9540.0  10200.0  10500.0  10800.0   \n",
       "2   6980.0   7120.0   7490.0  ...  13100.0  13400.0  13100.0  12800.0   \n",
       "3   2410.0   2820.0   2810.0  ...   5950.0   6130.0   6810.0   7130.0   \n",
       "4  13500.0  14300.0  14900.0  ...  20100.0  19700.0  19000.0  18200.0   \n",
       "\n",
       "      2014     2015     2016     2017     2018     2019  \n",
       "0   2070.0   2110.0   2150.0   2230.0   2260.0   2330.0  \n",
       "1  11400.0  11800.0  12200.0  13100.0  13800.0  14400.0  \n",
       "2  12700.0  11700.0  11500.0  11400.0  11500.0  11500.0  \n",
       "3   7680.0   6960.0   6730.0   6860.0   6550.0   6390.0  \n",
       "4  18100.0  17900.0  18400.0  18900.0  20500.0  21500.0  \n",
       "\n",
       "[5 rows x 31 columns]"
      ],
      "text/html": "<div>\n<style scoped>\n    .dataframe tbody tr th:only-of-type {\n        vertical-align: middle;\n    }\n\n    .dataframe tbody tr th {\n        vertical-align: top;\n    }\n\n    .dataframe thead th {\n        text-align: right;\n    }\n</style>\n<table border=\"1\" class=\"dataframe\">\n  <thead>\n    <tr style=\"text-align: right;\">\n      <th></th>\n      <th>country</th>\n      <th>1990</th>\n      <th>1991</th>\n      <th>1992</th>\n      <th>1993</th>\n      <th>1994</th>\n      <th>1995</th>\n      <th>1996</th>\n      <th>1997</th>\n      <th>1998</th>\n      <th>...</th>\n      <th>2010</th>\n      <th>2011</th>\n      <th>2012</th>\n      <th>2013</th>\n      <th>2014</th>\n      <th>2015</th>\n      <th>2016</th>\n      <th>2017</th>\n      <th>2018</th>\n      <th>2019</th>\n    </tr>\n  </thead>\n  <tbody>\n    <tr>\n      <th>0</th>\n      <td>Afghanistan</td>\n      <td>NaN</td>\n      <td>NaN</td>\n      <td>NaN</td>\n      <td>NaN</td>\n      <td>NaN</td>\n      <td>NaN</td>\n      <td>NaN</td>\n      <td>NaN</td>\n      <td>NaN</td>\n      <td>...</td>\n      <td>1710.0</td>\n      <td>1700.0</td>\n      <td>1920.0</td>\n      <td>2020.0</td>\n      <td>2070.0</td>\n      <td>2110.0</td>\n      <td>2150.0</td>\n      <td>2230.0</td>\n      <td>2260.0</td>\n      <td>2330.0</td>\n    </tr>\n    <tr>\n      <th>1</th>\n      <td>Albania</td>\n      <td>2550.0</td>\n      <td>1880.0</td>\n      <td>1740.0</td>\n      <td>2110.0</td>\n      <td>2300.0</td>\n      <td>2710.0</td>\n      <td>3050.0</td>\n      <td>2780.0</td>\n      <td>3110.0</td>\n      <td>...</td>\n      <td>9540.0</td>\n      <td>10200.0</td>\n      <td>10500.0</td>\n      <td>10800.0</td>\n      <td>11400.0</td>\n      <td>11800.0</td>\n      <td>12200.0</td>\n      <td>13100.0</td>\n      <td>13800.0</td>\n      <td>14400.0</td>\n    </tr>\n    <tr>\n      <th>2</th>\n      <td>Algeria</td>\n      <td>6660.0</td>\n      <td>6510.0</td>\n      <td>6690.0</td>\n      <td>6630.0</td>\n      <td>6530.0</td>\n      <td>6710.0</td>\n      <td>6980.0</td>\n      <td>7120.0</td>\n      <td>7490.0</td>\n      <td>...</td>\n      <td>13100.0</td>\n      <td>13400.0</td>\n      <td>13100.0</td>\n      <td>12800.0</td>\n      <td>12700.0</td>\n      <td>11700.0</td>\n      <td>11500.0</td>\n      <td>11400.0</td>\n      <td>11500.0</td>\n      <td>11500.0</td>\n    </tr>\n    <tr>\n      <th>3</th>\n      <td>Angola</td>\n      <td>2980.0</td>\n      <td>3300.0</td>\n      <td>1620.0</td>\n      <td>1490.0</td>\n      <td>1260.0</td>\n      <td>2340.0</td>\n      <td>2410.0</td>\n      <td>2820.0</td>\n      <td>2810.0</td>\n      <td>...</td>\n      <td>5950.0</td>\n      <td>6130.0</td>\n      <td>6810.0</td>\n      <td>7130.0</td>\n      <td>7680.0</td>\n      <td>6960.0</td>\n      <td>6730.0</td>\n      <td>6860.0</td>\n      <td>6550.0</td>\n      <td>6390.0</td>\n    </tr>\n    <tr>\n      <th>4</th>\n      <td>Antigua and Barbuda</td>\n      <td>10500.0</td>\n      <td>11300.0</td>\n      <td>11600.0</td>\n      <td>12400.0</td>\n      <td>13200.0</td>\n      <td>12600.0</td>\n      <td>13500.0</td>\n      <td>14300.0</td>\n      <td>14900.0</td>\n      <td>...</td>\n      <td>20100.0</td>\n      <td>19700.0</td>\n      <td>19000.0</td>\n      <td>18200.0</td>\n      <td>18100.0</td>\n      <td>17900.0</td>\n      <td>18400.0</td>\n      <td>18900.0</td>\n      <td>20500.0</td>\n      <td>21500.0</td>\n    </tr>\n  </tbody>\n</table>\n<p>5 rows × 31 columns</p>\n</div>"
     },
     "metadata": {},
     "execution_count": 24
    }
   ],
   "source": [
    "gni.head(5)"
   ]
  },
  {
   "source": [
    "1. The data contains missing values. For all three CSVs, use forward filling for imputing the missing data. Forward filling uses earlier values of the country for filling later ones (tip: there exist a Pandas function for that)"
   ],
   "cell_type": "markdown",
   "metadata": {}
  },
  {
   "cell_type": "code",
   "execution_count": 41,
   "metadata": {},
   "outputs": [
    {
     "output_type": "stream",
     "name": "stdout",
     "text": [
      "348\n759\n0\n"
     ]
    }
   ],
   "source": [
    "print(gni.isnull().sum().sum())\n",
    "print(ley.isnull().sum().sum())\n",
    "print(pop.isnull().sum().sum())"
   ]
  },
  {
   "cell_type": "code",
   "execution_count": 42,
   "metadata": {},
   "outputs": [],
   "source": [
    "ley.ffill(inplace=True)\n",
    "gni.ffill(inplace=True)\n",
    "gni.backfill(inplace=True)"
   ]
  },
  {
   "cell_type": "code",
   "execution_count": 43,
   "metadata": {},
   "outputs": [
    {
     "output_type": "stream",
     "name": "stdout",
     "text": [
      "0\n0\n0\n"
     ]
    }
   ],
   "source": [
    "print(gni.isnull().sum().sum())\n",
    "print(ley.isnull().sum().sum())\n",
    "print(pop.isnull().sum().sum())"
   ]
  },
  {
   "cell_type": "code",
   "execution_count": 44,
   "metadata": {},
   "outputs": [
    {
     "output_type": "execute_result",
     "data": {
      "text/plain": [
       "               country     1990     1991     1992     1993     1994     1995  \\\n",
       "0          Afghanistan   2550.0   1880.0   1740.0   2110.0   2300.0   2710.0   \n",
       "1              Albania   2550.0   1880.0   1740.0   2110.0   2300.0   2710.0   \n",
       "2              Algeria   6660.0   6510.0   6690.0   6630.0   6530.0   6710.0   \n",
       "3               Angola   2980.0   3300.0   1620.0   1490.0   1260.0   2340.0   \n",
       "4  Antigua and Barbuda  10500.0  11300.0  11600.0  12400.0  13200.0  12600.0   \n",
       "\n",
       "      1996     1997     1998  ...     2010     2011     2012     2013  \\\n",
       "0   3050.0   2780.0   3110.0  ...   1710.0   1700.0   1920.0   2020.0   \n",
       "1   3050.0   2780.0   3110.0  ...   9540.0  10200.0  10500.0  10800.0   \n",
       "2   6980.0   7120.0   7490.0  ...  13100.0  13400.0  13100.0  12800.0   \n",
       "3   2410.0   2820.0   2810.0  ...   5950.0   6130.0   6810.0   7130.0   \n",
       "4  13500.0  14300.0  14900.0  ...  20100.0  19700.0  19000.0  18200.0   \n",
       "\n",
       "      2014     2015     2016     2017     2018     2019  \n",
       "0   2070.0   2110.0   2150.0   2230.0   2260.0   2330.0  \n",
       "1  11400.0  11800.0  12200.0  13100.0  13800.0  14400.0  \n",
       "2  12700.0  11700.0  11500.0  11400.0  11500.0  11500.0  \n",
       "3   7680.0   6960.0   6730.0   6860.0   6550.0   6390.0  \n",
       "4  18100.0  17900.0  18400.0  18900.0  20500.0  21500.0  \n",
       "\n",
       "[5 rows x 31 columns]"
      ],
      "text/html": "<div>\n<style scoped>\n    .dataframe tbody tr th:only-of-type {\n        vertical-align: middle;\n    }\n\n    .dataframe tbody tr th {\n        vertical-align: top;\n    }\n\n    .dataframe thead th {\n        text-align: right;\n    }\n</style>\n<table border=\"1\" class=\"dataframe\">\n  <thead>\n    <tr style=\"text-align: right;\">\n      <th></th>\n      <th>country</th>\n      <th>1990</th>\n      <th>1991</th>\n      <th>1992</th>\n      <th>1993</th>\n      <th>1994</th>\n      <th>1995</th>\n      <th>1996</th>\n      <th>1997</th>\n      <th>1998</th>\n      <th>...</th>\n      <th>2010</th>\n      <th>2011</th>\n      <th>2012</th>\n      <th>2013</th>\n      <th>2014</th>\n      <th>2015</th>\n      <th>2016</th>\n      <th>2017</th>\n      <th>2018</th>\n      <th>2019</th>\n    </tr>\n  </thead>\n  <tbody>\n    <tr>\n      <th>0</th>\n      <td>Afghanistan</td>\n      <td>2550.0</td>\n      <td>1880.0</td>\n      <td>1740.0</td>\n      <td>2110.0</td>\n      <td>2300.0</td>\n      <td>2710.0</td>\n      <td>3050.0</td>\n      <td>2780.0</td>\n      <td>3110.0</td>\n      <td>...</td>\n      <td>1710.0</td>\n      <td>1700.0</td>\n      <td>1920.0</td>\n      <td>2020.0</td>\n      <td>2070.0</td>\n      <td>2110.0</td>\n      <td>2150.0</td>\n      <td>2230.0</td>\n      <td>2260.0</td>\n      <td>2330.0</td>\n    </tr>\n    <tr>\n      <th>1</th>\n      <td>Albania</td>\n      <td>2550.0</td>\n      <td>1880.0</td>\n      <td>1740.0</td>\n      <td>2110.0</td>\n      <td>2300.0</td>\n      <td>2710.0</td>\n      <td>3050.0</td>\n      <td>2780.0</td>\n      <td>3110.0</td>\n      <td>...</td>\n      <td>9540.0</td>\n      <td>10200.0</td>\n      <td>10500.0</td>\n      <td>10800.0</td>\n      <td>11400.0</td>\n      <td>11800.0</td>\n      <td>12200.0</td>\n      <td>13100.0</td>\n      <td>13800.0</td>\n      <td>14400.0</td>\n    </tr>\n    <tr>\n      <th>2</th>\n      <td>Algeria</td>\n      <td>6660.0</td>\n      <td>6510.0</td>\n      <td>6690.0</td>\n      <td>6630.0</td>\n      <td>6530.0</td>\n      <td>6710.0</td>\n      <td>6980.0</td>\n      <td>7120.0</td>\n      <td>7490.0</td>\n      <td>...</td>\n      <td>13100.0</td>\n      <td>13400.0</td>\n      <td>13100.0</td>\n      <td>12800.0</td>\n      <td>12700.0</td>\n      <td>11700.0</td>\n      <td>11500.0</td>\n      <td>11400.0</td>\n      <td>11500.0</td>\n      <td>11500.0</td>\n    </tr>\n    <tr>\n      <th>3</th>\n      <td>Angola</td>\n      <td>2980.0</td>\n      <td>3300.0</td>\n      <td>1620.0</td>\n      <td>1490.0</td>\n      <td>1260.0</td>\n      <td>2340.0</td>\n      <td>2410.0</td>\n      <td>2820.0</td>\n      <td>2810.0</td>\n      <td>...</td>\n      <td>5950.0</td>\n      <td>6130.0</td>\n      <td>6810.0</td>\n      <td>7130.0</td>\n      <td>7680.0</td>\n      <td>6960.0</td>\n      <td>6730.0</td>\n      <td>6860.0</td>\n      <td>6550.0</td>\n      <td>6390.0</td>\n    </tr>\n    <tr>\n      <th>4</th>\n      <td>Antigua and Barbuda</td>\n      <td>10500.0</td>\n      <td>11300.0</td>\n      <td>11600.0</td>\n      <td>12400.0</td>\n      <td>13200.0</td>\n      <td>12600.0</td>\n      <td>13500.0</td>\n      <td>14300.0</td>\n      <td>14900.0</td>\n      <td>...</td>\n      <td>20100.0</td>\n      <td>19700.0</td>\n      <td>19000.0</td>\n      <td>18200.0</td>\n      <td>18100.0</td>\n      <td>17900.0</td>\n      <td>18400.0</td>\n      <td>18900.0</td>\n      <td>20500.0</td>\n      <td>21500.0</td>\n    </tr>\n  </tbody>\n</table>\n<p>5 rows × 31 columns</p>\n</div>"
     },
     "metadata": {},
     "execution_count": 44
    }
   ],
   "source": [
    "gni.head(5)"
   ]
  },
  {
   "cell_type": "code",
   "execution_count": 45,
   "metadata": {},
   "outputs": [
    {
     "output_type": "execute_result",
     "data": {
      "text/plain": [
       "       country  1800  1801  1802  1803  1804  1805  1806  1807  1808  ...  \\\n",
       "0  Afghanistan  28.2  28.2  28.2  28.2  28.2  28.2  28.1  28.1  28.1  ...   \n",
       "1      Albania  35.4  35.4  35.4  35.4  35.4  35.4  35.4  35.4  35.4  ...   \n",
       "2      Algeria  28.8  28.8  28.8  28.8  28.8  28.8  28.8  28.8  28.8  ...   \n",
       "3      Andorra  28.8  28.8  28.8  28.8  28.8  28.8  28.8  28.8  28.8  ...   \n",
       "4       Angola  27.0  27.0  27.0  27.0  27.0  27.0  27.0  27.0  27.0  ...   \n",
       "\n",
       "   2091  2092  2093  2094  2095  2096  2097  2098  2099  2100  \n",
       "0  76.5  76.6  76.7  76.9  77.0  77.1  77.3  77.4  77.5  77.7  \n",
       "1  87.4  87.5  87.6  87.7  87.8  87.9  88.0  88.1  88.2  88.3  \n",
       "2  88.3  88.4  88.5  88.6  88.7  88.8  88.9  89.0  89.1  89.2  \n",
       "3  88.3  88.4  88.5  88.6  88.7  88.8  88.9  89.0  89.1  89.2  \n",
       "4  78.7  78.9  79.0  79.1  79.3  79.4  79.5  79.7  79.8  79.9  \n",
       "\n",
       "[5 rows x 302 columns]"
      ],
      "text/html": "<div>\n<style scoped>\n    .dataframe tbody tr th:only-of-type {\n        vertical-align: middle;\n    }\n\n    .dataframe tbody tr th {\n        vertical-align: top;\n    }\n\n    .dataframe thead th {\n        text-align: right;\n    }\n</style>\n<table border=\"1\" class=\"dataframe\">\n  <thead>\n    <tr style=\"text-align: right;\">\n      <th></th>\n      <th>country</th>\n      <th>1800</th>\n      <th>1801</th>\n      <th>1802</th>\n      <th>1803</th>\n      <th>1804</th>\n      <th>1805</th>\n      <th>1806</th>\n      <th>1807</th>\n      <th>1808</th>\n      <th>...</th>\n      <th>2091</th>\n      <th>2092</th>\n      <th>2093</th>\n      <th>2094</th>\n      <th>2095</th>\n      <th>2096</th>\n      <th>2097</th>\n      <th>2098</th>\n      <th>2099</th>\n      <th>2100</th>\n    </tr>\n  </thead>\n  <tbody>\n    <tr>\n      <th>0</th>\n      <td>Afghanistan</td>\n      <td>28.2</td>\n      <td>28.2</td>\n      <td>28.2</td>\n      <td>28.2</td>\n      <td>28.2</td>\n      <td>28.2</td>\n      <td>28.1</td>\n      <td>28.1</td>\n      <td>28.1</td>\n      <td>...</td>\n      <td>76.5</td>\n      <td>76.6</td>\n      <td>76.7</td>\n      <td>76.9</td>\n      <td>77.0</td>\n      <td>77.1</td>\n      <td>77.3</td>\n      <td>77.4</td>\n      <td>77.5</td>\n      <td>77.7</td>\n    </tr>\n    <tr>\n      <th>1</th>\n      <td>Albania</td>\n      <td>35.4</td>\n      <td>35.4</td>\n      <td>35.4</td>\n      <td>35.4</td>\n      <td>35.4</td>\n      <td>35.4</td>\n      <td>35.4</td>\n      <td>35.4</td>\n      <td>35.4</td>\n      <td>...</td>\n      <td>87.4</td>\n      <td>87.5</td>\n      <td>87.6</td>\n      <td>87.7</td>\n      <td>87.8</td>\n      <td>87.9</td>\n      <td>88.0</td>\n      <td>88.1</td>\n      <td>88.2</td>\n      <td>88.3</td>\n    </tr>\n    <tr>\n      <th>2</th>\n      <td>Algeria</td>\n      <td>28.8</td>\n      <td>28.8</td>\n      <td>28.8</td>\n      <td>28.8</td>\n      <td>28.8</td>\n      <td>28.8</td>\n      <td>28.8</td>\n      <td>28.8</td>\n      <td>28.8</td>\n      <td>...</td>\n      <td>88.3</td>\n      <td>88.4</td>\n      <td>88.5</td>\n      <td>88.6</td>\n      <td>88.7</td>\n      <td>88.8</td>\n      <td>88.9</td>\n      <td>89.0</td>\n      <td>89.1</td>\n      <td>89.2</td>\n    </tr>\n    <tr>\n      <th>3</th>\n      <td>Andorra</td>\n      <td>28.8</td>\n      <td>28.8</td>\n      <td>28.8</td>\n      <td>28.8</td>\n      <td>28.8</td>\n      <td>28.8</td>\n      <td>28.8</td>\n      <td>28.8</td>\n      <td>28.8</td>\n      <td>...</td>\n      <td>88.3</td>\n      <td>88.4</td>\n      <td>88.5</td>\n      <td>88.6</td>\n      <td>88.7</td>\n      <td>88.8</td>\n      <td>88.9</td>\n      <td>89.0</td>\n      <td>89.1</td>\n      <td>89.2</td>\n    </tr>\n    <tr>\n      <th>4</th>\n      <td>Angola</td>\n      <td>27.0</td>\n      <td>27.0</td>\n      <td>27.0</td>\n      <td>27.0</td>\n      <td>27.0</td>\n      <td>27.0</td>\n      <td>27.0</td>\n      <td>27.0</td>\n      <td>27.0</td>\n      <td>...</td>\n      <td>78.7</td>\n      <td>78.9</td>\n      <td>79.0</td>\n      <td>79.1</td>\n      <td>79.3</td>\n      <td>79.4</td>\n      <td>79.5</td>\n      <td>79.7</td>\n      <td>79.8</td>\n      <td>79.9</td>\n    </tr>\n  </tbody>\n</table>\n<p>5 rows × 302 columns</p>\n</div>"
     },
     "metadata": {},
     "execution_count": 45
    }
   ],
   "source": [
    "ley.head(5)"
   ]
  },
  {
   "source": [
    "2. For each CSV, transform the dataframe into a so called \"tidy data format\" (see e.g. https://en.wikipedia.org/wiki/Tidy_data). Each dataframe then should have only three columns: (1) country, (2) year, (3) the KPI (that means either a) life expectancy, b) population, or 3) GNI per capita)"
   ],
   "cell_type": "markdown",
   "metadata": {}
  },
  {
   "cell_type": "code",
   "execution_count": 52,
   "metadata": {},
   "outputs": [],
   "source": [
    "gni_ty = pd.melt(gni, [\"country\"], var_name=\"year\", value_name=\"GNI per capita\")\n",
    "pop_ty = pd.melt(pop, [\"country\"], var_name=\"year\", value_name=\"population\")\n",
    "ley_ty = pd.melt(ley, [\"country\"], var_name=\"year\", value_name=\"life expectancy\")"
   ]
  },
  {
   "cell_type": "code",
   "execution_count": 49,
   "metadata": {},
   "outputs": [
    {
     "output_type": "execute_result",
     "data": {
      "text/plain": [
       "               country  year  GNI per capita\n",
       "0          Afghanistan  1990          2550.0\n",
       "1              Albania  1990          2550.0\n",
       "2              Algeria  1990          6660.0\n",
       "3               Angola  1990          2980.0\n",
       "4  Antigua and Barbuda  1990         10500.0"
      ],
      "text/html": "<div>\n<style scoped>\n    .dataframe tbody tr th:only-of-type {\n        vertical-align: middle;\n    }\n\n    .dataframe tbody tr th {\n        vertical-align: top;\n    }\n\n    .dataframe thead th {\n        text-align: right;\n    }\n</style>\n<table border=\"1\" class=\"dataframe\">\n  <thead>\n    <tr style=\"text-align: right;\">\n      <th></th>\n      <th>country</th>\n      <th>year</th>\n      <th>GNI per capita</th>\n    </tr>\n  </thead>\n  <tbody>\n    <tr>\n      <th>0</th>\n      <td>Afghanistan</td>\n      <td>1990</td>\n      <td>2550.0</td>\n    </tr>\n    <tr>\n      <th>1</th>\n      <td>Albania</td>\n      <td>1990</td>\n      <td>2550.0</td>\n    </tr>\n    <tr>\n      <th>2</th>\n      <td>Algeria</td>\n      <td>1990</td>\n      <td>6660.0</td>\n    </tr>\n    <tr>\n      <th>3</th>\n      <td>Angola</td>\n      <td>1990</td>\n      <td>2980.0</td>\n    </tr>\n    <tr>\n      <th>4</th>\n      <td>Antigua and Barbuda</td>\n      <td>1990</td>\n      <td>10500.0</td>\n    </tr>\n  </tbody>\n</table>\n</div>"
     },
     "metadata": {},
     "execution_count": 49
    }
   ],
   "source": [
    "gni_ty.head(5)"
   ]
  },
  {
   "cell_type": "code",
   "execution_count": 50,
   "metadata": {},
   "outputs": [
    {
     "output_type": "execute_result",
     "data": {
      "text/plain": [
       "       country  year  population\n",
       "0  Afghanistan  1800     3280000\n",
       "1      Albania  1800      400000\n",
       "2      Algeria  1800     2500000\n",
       "3      Andorra  1800        2650\n",
       "4       Angola  1800     1570000"
      ],
      "text/html": "<div>\n<style scoped>\n    .dataframe tbody tr th:only-of-type {\n        vertical-align: middle;\n    }\n\n    .dataframe tbody tr th {\n        vertical-align: top;\n    }\n\n    .dataframe thead th {\n        text-align: right;\n    }\n</style>\n<table border=\"1\" class=\"dataframe\">\n  <thead>\n    <tr style=\"text-align: right;\">\n      <th></th>\n      <th>country</th>\n      <th>year</th>\n      <th>population</th>\n    </tr>\n  </thead>\n  <tbody>\n    <tr>\n      <th>0</th>\n      <td>Afghanistan</td>\n      <td>1800</td>\n      <td>3280000</td>\n    </tr>\n    <tr>\n      <th>1</th>\n      <td>Albania</td>\n      <td>1800</td>\n      <td>400000</td>\n    </tr>\n    <tr>\n      <th>2</th>\n      <td>Algeria</td>\n      <td>1800</td>\n      <td>2500000</td>\n    </tr>\n    <tr>\n      <th>3</th>\n      <td>Andorra</td>\n      <td>1800</td>\n      <td>2650</td>\n    </tr>\n    <tr>\n      <th>4</th>\n      <td>Angola</td>\n      <td>1800</td>\n      <td>1570000</td>\n    </tr>\n  </tbody>\n</table>\n</div>"
     },
     "metadata": {},
     "execution_count": 50
    }
   ],
   "source": [
    "pop_ty.head(5)"
   ]
  },
  {
   "cell_type": "code",
   "execution_count": 53,
   "metadata": {},
   "outputs": [
    {
     "output_type": "execute_result",
     "data": {
      "text/plain": [
       "       country  year  life expectancy\n",
       "0  Afghanistan  1800             28.2\n",
       "1      Albania  1800             35.4\n",
       "2      Algeria  1800             28.8\n",
       "3      Andorra  1800             28.8\n",
       "4       Angola  1800             27.0"
      ],
      "text/html": "<div>\n<style scoped>\n    .dataframe tbody tr th:only-of-type {\n        vertical-align: middle;\n    }\n\n    .dataframe tbody tr th {\n        vertical-align: top;\n    }\n\n    .dataframe thead th {\n        text-align: right;\n    }\n</style>\n<table border=\"1\" class=\"dataframe\">\n  <thead>\n    <tr style=\"text-align: right;\">\n      <th></th>\n      <th>country</th>\n      <th>year</th>\n      <th>life expectancy</th>\n    </tr>\n  </thead>\n  <tbody>\n    <tr>\n      <th>0</th>\n      <td>Afghanistan</td>\n      <td>1800</td>\n      <td>28.2</td>\n    </tr>\n    <tr>\n      <th>1</th>\n      <td>Albania</td>\n      <td>1800</td>\n      <td>35.4</td>\n    </tr>\n    <tr>\n      <th>2</th>\n      <td>Algeria</td>\n      <td>1800</td>\n      <td>28.8</td>\n    </tr>\n    <tr>\n      <th>3</th>\n      <td>Andorra</td>\n      <td>1800</td>\n      <td>28.8</td>\n    </tr>\n    <tr>\n      <th>4</th>\n      <td>Angola</td>\n      <td>1800</td>\n      <td>27.0</td>\n    </tr>\n  </tbody>\n</table>\n</div>"
     },
     "metadata": {},
     "execution_count": 53
    }
   ],
   "source": [
    "ley_ty.head(5)"
   ]
  },
  {
   "source": [
    "3. You have to merge all three CVS. Merge the three dataframe into one dataframe, that just has 5 columns (country, year and all three KPIs from the three dataframes)"
   ],
   "cell_type": "markdown",
   "metadata": {}
  },
  {
   "cell_type": "code",
   "execution_count": 65,
   "metadata": {},
   "outputs": [
    {
     "output_type": "execute_result",
     "data": {
      "text/plain": [
       "       country  year  life expectancy  GNI per capita\n",
       "0  Afghanistan  1800             28.2             NaN\n",
       "1      Albania  1800             35.4             NaN\n",
       "2      Algeria  1800             28.8             NaN\n",
       "3      Andorra  1800             28.8             NaN\n",
       "4       Angola  1800             27.0             NaN"
      ],
      "text/html": "<div>\n<style scoped>\n    .dataframe tbody tr th:only-of-type {\n        vertical-align: middle;\n    }\n\n    .dataframe tbody tr th {\n        vertical-align: top;\n    }\n\n    .dataframe thead th {\n        text-align: right;\n    }\n</style>\n<table border=\"1\" class=\"dataframe\">\n  <thead>\n    <tr style=\"text-align: right;\">\n      <th></th>\n      <th>country</th>\n      <th>year</th>\n      <th>life expectancy</th>\n      <th>GNI per capita</th>\n    </tr>\n  </thead>\n  <tbody>\n    <tr>\n      <th>0</th>\n      <td>Afghanistan</td>\n      <td>1800</td>\n      <td>28.2</td>\n      <td>NaN</td>\n    </tr>\n    <tr>\n      <th>1</th>\n      <td>Albania</td>\n      <td>1800</td>\n      <td>35.4</td>\n      <td>NaN</td>\n    </tr>\n    <tr>\n      <th>2</th>\n      <td>Algeria</td>\n      <td>1800</td>\n      <td>28.8</td>\n      <td>NaN</td>\n    </tr>\n    <tr>\n      <th>3</th>\n      <td>Andorra</td>\n      <td>1800</td>\n      <td>28.8</td>\n      <td>NaN</td>\n    </tr>\n    <tr>\n      <th>4</th>\n      <td>Angola</td>\n      <td>1800</td>\n      <td>27.0</td>\n      <td>NaN</td>\n    </tr>\n  </tbody>\n</table>\n</div>"
     },
     "metadata": {},
     "execution_count": 65
    }
   ],
   "source": [
    "ley_gni_ty = pd.merge(ley_ty, gni_ty, how= 'left', on=['country', 'year'])\n",
    "ley_gni_ty.head(5)"
   ]
  },
  {
   "cell_type": "code",
   "execution_count": 67,
   "metadata": {},
   "outputs": [
    {
     "output_type": "execute_result",
     "data": {
      "text/plain": [
       "       country  year  life expectancy  GNI per capita  population\n",
       "0  Afghanistan  1800             28.2             NaN     3280000\n",
       "1      Albania  1800             35.4             NaN      400000\n",
       "2      Algeria  1800             28.8             NaN     2500000\n",
       "3      Andorra  1800             28.8             NaN        2650\n",
       "4       Angola  1800             27.0             NaN     1570000"
      ],
      "text/html": "<div>\n<style scoped>\n    .dataframe tbody tr th:only-of-type {\n        vertical-align: middle;\n    }\n\n    .dataframe tbody tr th {\n        vertical-align: top;\n    }\n\n    .dataframe thead th {\n        text-align: right;\n    }\n</style>\n<table border=\"1\" class=\"dataframe\">\n  <thead>\n    <tr style=\"text-align: right;\">\n      <th></th>\n      <th>country</th>\n      <th>year</th>\n      <th>life expectancy</th>\n      <th>GNI per capita</th>\n      <th>population</th>\n    </tr>\n  </thead>\n  <tbody>\n    <tr>\n      <th>0</th>\n      <td>Afghanistan</td>\n      <td>1800</td>\n      <td>28.2</td>\n      <td>NaN</td>\n      <td>3280000</td>\n    </tr>\n    <tr>\n      <th>1</th>\n      <td>Albania</td>\n      <td>1800</td>\n      <td>35.4</td>\n      <td>NaN</td>\n      <td>400000</td>\n    </tr>\n    <tr>\n      <th>2</th>\n      <td>Algeria</td>\n      <td>1800</td>\n      <td>28.8</td>\n      <td>NaN</td>\n      <td>2500000</td>\n    </tr>\n    <tr>\n      <th>3</th>\n      <td>Andorra</td>\n      <td>1800</td>\n      <td>28.8</td>\n      <td>NaN</td>\n      <td>2650</td>\n    </tr>\n    <tr>\n      <th>4</th>\n      <td>Angola</td>\n      <td>1800</td>\n      <td>27.0</td>\n      <td>NaN</td>\n      <td>1570000</td>\n    </tr>\n  </tbody>\n</table>\n</div>"
     },
     "metadata": {},
     "execution_count": 67
    }
   ],
   "source": [
    "merged_ty = pd.merge(ley_gni_ty, pop_ty, how= 'left', on=['country', 'year'])\n",
    "merged_ty.head(5)"
   ]
  },
  {
   "cell_type": "code",
   "execution_count": 59,
   "metadata": {},
   "outputs": [],
   "source": []
  }
 ]
}